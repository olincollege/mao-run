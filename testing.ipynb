{
 "cells": [
  {
   "cell_type": "code",
   "execution_count": 3,
   "metadata": {},
   "outputs": [
    {
     "name": "stdout",
     "output_type": "stream",
     "text": [
      "{'square': 'right', 'rectangle': 'up', 'triangle': 'left', 'circle': 'up'}\n",
      "right\n"
     ]
    }
   ],
   "source": [
    "from game import Game\n",
    "from obstacle import Obstacle\n",
    "\n",
    "test = Game()\n",
    "print(test.obstacle_actions)\n",
    "\n",
    "square = Obstacle(\"square\", test.obstacle_actions)\n",
    "print(square.action)"
   ]
  }
 ],
 "metadata": {
  "interpreter": {
   "hash": "2068f3583ae5cf10af8f15ef2248b92708cc6d2b99c2277d9c2dd617a15e83e9"
  },
  "kernelspec": {
   "display_name": "Python 3.9.7 ('base')",
   "language": "python",
   "name": "python3"
  },
  "language_info": {
   "codemirror_mode": {
    "name": "ipython",
    "version": 3
   },
   "file_extension": ".py",
   "mimetype": "text/x-python",
   "name": "python",
   "nbconvert_exporter": "python",
   "pygments_lexer": "ipython3",
   "version": "3.9.7"
  },
  "orig_nbformat": 4
 },
 "nbformat": 4,
 "nbformat_minor": 2
}
